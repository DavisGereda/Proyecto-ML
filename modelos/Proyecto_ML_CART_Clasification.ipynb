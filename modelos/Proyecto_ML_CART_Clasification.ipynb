{
  "nbformat": 4,
  "nbformat_minor": 0,
  "metadata": {
    "colab": {
      "name": "Proyecto_ML_CART_Clasification.ipynb",
      "provenance": []
    },
    "kernelspec": {
      "name": "python3",
      "display_name": "Python 3"
    },
    "language_info": {
      "name": "python"
    }
  },
  "cells": [
    {
      "cell_type": "code",
      "execution_count": null,
      "metadata": {
        "id": "r70s4U8oXrGQ"
      },
      "outputs": [],
      "source": [
        "import matplotlib.pyplot as plt\n",
        "%matplotlib inline\n",
        "import numpy as np\n",
        "import pandas as pd\n",
        "import pickle\n",
        "import pandas as pd\n",
        "import numpy as np\n",
        "import seaborn as sns\n",
        "import matplotlib.pyplot as plt\n",
        "from sklearn.tree import DecisionTreeClassifier\n",
        "from sklearn.model_selection import train_test_split\n",
        "from sklearn.metrics import accuracy_score, roc_curve, roc_auc_score, confusion_matrix, plot_confusion_matrix, classification_report\n",
        "\n",
        "pd.set_option(\"display.max_columns\", 50)\n",
        "\n",
        "%matplotlib inline"
      ]
    },
    {
      "cell_type": "code",
      "source": [
        "from google.colab import drive\n",
        "drive.mount('/content/drive',force_remount=True)"
      ],
      "metadata": {
        "colab": {
          "base_uri": "https://localhost:8080/"
        },
        "id": "sskXOO8kYOVO",
        "outputId": "42afaccb-9117-41f0-9282-21976a035438"
      },
      "execution_count": null,
      "outputs": [
        {
          "output_type": "stream",
          "name": "stdout",
          "text": [
            "Mounted at /content/drive\n"
          ]
        }
      ]
    },
    {
      "cell_type": "code",
      "source": [
        "# cargamo la data\n",
        "dataset=pd.read_csv('drive/My Drive/Aprendizaje Automático/Proyecto AA/in-vehicle-coupon-recommendation.csv')"
      ],
      "metadata": {
        "id": "W5GuK8yqYUlG"
      },
      "execution_count": null,
      "outputs": []
    },
    {
      "cell_type": "code",
      "source": [
        "dataset.head()"
      ],
      "metadata": {
        "colab": {
          "base_uri": "https://localhost:8080/",
          "height": 444
        },
        "id": "Lk-w-ITHYXUu",
        "outputId": "aa3509b4-e2cb-4f0a-d3ca-bbad27c810d0"
      },
      "execution_count": null,
      "outputs": [
        {
          "output_type": "execute_result",
          "data": {
            "text/plain": [
              "       destination  passanger weather  temperature  time  \\\n",
              "0  No Urgent Place      Alone   Sunny           55   2PM   \n",
              "1  No Urgent Place  Friend(s)   Sunny           80  10AM   \n",
              "2  No Urgent Place  Friend(s)   Sunny           80  10AM   \n",
              "3  No Urgent Place  Friend(s)   Sunny           80   2PM   \n",
              "4  No Urgent Place  Friend(s)   Sunny           80   2PM   \n",
              "\n",
              "                  coupon expiration  gender age      maritalStatus  \\\n",
              "0        Restaurant(<20)         1d  Female  21  Unmarried partner   \n",
              "1           Coffee House         2h  Female  21  Unmarried partner   \n",
              "2  Carry out & Take away         2h  Female  21  Unmarried partner   \n",
              "3           Coffee House         2h  Female  21  Unmarried partner   \n",
              "4           Coffee House         1d  Female  21  Unmarried partner   \n",
              "\n",
              "   has_children                 education  occupation           income  car  \\\n",
              "0             1  Some college - no degree  Unemployed  $37500 - $49999  NaN   \n",
              "1             1  Some college - no degree  Unemployed  $37500 - $49999  NaN   \n",
              "2             1  Some college - no degree  Unemployed  $37500 - $49999  NaN   \n",
              "3             1  Some college - no degree  Unemployed  $37500 - $49999  NaN   \n",
              "4             1  Some college - no degree  Unemployed  $37500 - $49999  NaN   \n",
              "\n",
              "     Bar CoffeeHouse CarryAway RestaurantLessThan20 Restaurant20To50  \\\n",
              "0  never       never       NaN                  4~8              1~3   \n",
              "1  never       never       NaN                  4~8              1~3   \n",
              "2  never       never       NaN                  4~8              1~3   \n",
              "3  never       never       NaN                  4~8              1~3   \n",
              "4  never       never       NaN                  4~8              1~3   \n",
              "\n",
              "   toCoupon_GEQ5min  toCoupon_GEQ15min  toCoupon_GEQ25min  direction_same  \\\n",
              "0                 1                  0                  0               0   \n",
              "1                 1                  0                  0               0   \n",
              "2                 1                  1                  0               0   \n",
              "3                 1                  1                  0               0   \n",
              "4                 1                  1                  0               0   \n",
              "\n",
              "   direction_opp  Y  \n",
              "0              1  1  \n",
              "1              1  0  \n",
              "2              1  1  \n",
              "3              1  0  \n",
              "4              1  0  "
            ],
            "text/html": [
              "\n",
              "  <div id=\"df-7fe1dfee-6895-4298-a7a2-8d7b3388cc11\">\n",
              "    <div class=\"colab-df-container\">\n",
              "      <div>\n",
              "<style scoped>\n",
              "    .dataframe tbody tr th:only-of-type {\n",
              "        vertical-align: middle;\n",
              "    }\n",
              "\n",
              "    .dataframe tbody tr th {\n",
              "        vertical-align: top;\n",
              "    }\n",
              "\n",
              "    .dataframe thead th {\n",
              "        text-align: right;\n",
              "    }\n",
              "</style>\n",
              "<table border=\"1\" class=\"dataframe\">\n",
              "  <thead>\n",
              "    <tr style=\"text-align: right;\">\n",
              "      <th></th>\n",
              "      <th>destination</th>\n",
              "      <th>passanger</th>\n",
              "      <th>weather</th>\n",
              "      <th>temperature</th>\n",
              "      <th>time</th>\n",
              "      <th>coupon</th>\n",
              "      <th>expiration</th>\n",
              "      <th>gender</th>\n",
              "      <th>age</th>\n",
              "      <th>maritalStatus</th>\n",
              "      <th>has_children</th>\n",
              "      <th>education</th>\n",
              "      <th>occupation</th>\n",
              "      <th>income</th>\n",
              "      <th>car</th>\n",
              "      <th>Bar</th>\n",
              "      <th>CoffeeHouse</th>\n",
              "      <th>CarryAway</th>\n",
              "      <th>RestaurantLessThan20</th>\n",
              "      <th>Restaurant20To50</th>\n",
              "      <th>toCoupon_GEQ5min</th>\n",
              "      <th>toCoupon_GEQ15min</th>\n",
              "      <th>toCoupon_GEQ25min</th>\n",
              "      <th>direction_same</th>\n",
              "      <th>direction_opp</th>\n",
              "      <th>Y</th>\n",
              "    </tr>\n",
              "  </thead>\n",
              "  <tbody>\n",
              "    <tr>\n",
              "      <th>0</th>\n",
              "      <td>No Urgent Place</td>\n",
              "      <td>Alone</td>\n",
              "      <td>Sunny</td>\n",
              "      <td>55</td>\n",
              "      <td>2PM</td>\n",
              "      <td>Restaurant(&lt;20)</td>\n",
              "      <td>1d</td>\n",
              "      <td>Female</td>\n",
              "      <td>21</td>\n",
              "      <td>Unmarried partner</td>\n",
              "      <td>1</td>\n",
              "      <td>Some college - no degree</td>\n",
              "      <td>Unemployed</td>\n",
              "      <td>$37500 - $49999</td>\n",
              "      <td>NaN</td>\n",
              "      <td>never</td>\n",
              "      <td>never</td>\n",
              "      <td>NaN</td>\n",
              "      <td>4~8</td>\n",
              "      <td>1~3</td>\n",
              "      <td>1</td>\n",
              "      <td>0</td>\n",
              "      <td>0</td>\n",
              "      <td>0</td>\n",
              "      <td>1</td>\n",
              "      <td>1</td>\n",
              "    </tr>\n",
              "    <tr>\n",
              "      <th>1</th>\n",
              "      <td>No Urgent Place</td>\n",
              "      <td>Friend(s)</td>\n",
              "      <td>Sunny</td>\n",
              "      <td>80</td>\n",
              "      <td>10AM</td>\n",
              "      <td>Coffee House</td>\n",
              "      <td>2h</td>\n",
              "      <td>Female</td>\n",
              "      <td>21</td>\n",
              "      <td>Unmarried partner</td>\n",
              "      <td>1</td>\n",
              "      <td>Some college - no degree</td>\n",
              "      <td>Unemployed</td>\n",
              "      <td>$37500 - $49999</td>\n",
              "      <td>NaN</td>\n",
              "      <td>never</td>\n",
              "      <td>never</td>\n",
              "      <td>NaN</td>\n",
              "      <td>4~8</td>\n",
              "      <td>1~3</td>\n",
              "      <td>1</td>\n",
              "      <td>0</td>\n",
              "      <td>0</td>\n",
              "      <td>0</td>\n",
              "      <td>1</td>\n",
              "      <td>0</td>\n",
              "    </tr>\n",
              "    <tr>\n",
              "      <th>2</th>\n",
              "      <td>No Urgent Place</td>\n",
              "      <td>Friend(s)</td>\n",
              "      <td>Sunny</td>\n",
              "      <td>80</td>\n",
              "      <td>10AM</td>\n",
              "      <td>Carry out &amp; Take away</td>\n",
              "      <td>2h</td>\n",
              "      <td>Female</td>\n",
              "      <td>21</td>\n",
              "      <td>Unmarried partner</td>\n",
              "      <td>1</td>\n",
              "      <td>Some college - no degree</td>\n",
              "      <td>Unemployed</td>\n",
              "      <td>$37500 - $49999</td>\n",
              "      <td>NaN</td>\n",
              "      <td>never</td>\n",
              "      <td>never</td>\n",
              "      <td>NaN</td>\n",
              "      <td>4~8</td>\n",
              "      <td>1~3</td>\n",
              "      <td>1</td>\n",
              "      <td>1</td>\n",
              "      <td>0</td>\n",
              "      <td>0</td>\n",
              "      <td>1</td>\n",
              "      <td>1</td>\n",
              "    </tr>\n",
              "    <tr>\n",
              "      <th>3</th>\n",
              "      <td>No Urgent Place</td>\n",
              "      <td>Friend(s)</td>\n",
              "      <td>Sunny</td>\n",
              "      <td>80</td>\n",
              "      <td>2PM</td>\n",
              "      <td>Coffee House</td>\n",
              "      <td>2h</td>\n",
              "      <td>Female</td>\n",
              "      <td>21</td>\n",
              "      <td>Unmarried partner</td>\n",
              "      <td>1</td>\n",
              "      <td>Some college - no degree</td>\n",
              "      <td>Unemployed</td>\n",
              "      <td>$37500 - $49999</td>\n",
              "      <td>NaN</td>\n",
              "      <td>never</td>\n",
              "      <td>never</td>\n",
              "      <td>NaN</td>\n",
              "      <td>4~8</td>\n",
              "      <td>1~3</td>\n",
              "      <td>1</td>\n",
              "      <td>1</td>\n",
              "      <td>0</td>\n",
              "      <td>0</td>\n",
              "      <td>1</td>\n",
              "      <td>0</td>\n",
              "    </tr>\n",
              "    <tr>\n",
              "      <th>4</th>\n",
              "      <td>No Urgent Place</td>\n",
              "      <td>Friend(s)</td>\n",
              "      <td>Sunny</td>\n",
              "      <td>80</td>\n",
              "      <td>2PM</td>\n",
              "      <td>Coffee House</td>\n",
              "      <td>1d</td>\n",
              "      <td>Female</td>\n",
              "      <td>21</td>\n",
              "      <td>Unmarried partner</td>\n",
              "      <td>1</td>\n",
              "      <td>Some college - no degree</td>\n",
              "      <td>Unemployed</td>\n",
              "      <td>$37500 - $49999</td>\n",
              "      <td>NaN</td>\n",
              "      <td>never</td>\n",
              "      <td>never</td>\n",
              "      <td>NaN</td>\n",
              "      <td>4~8</td>\n",
              "      <td>1~3</td>\n",
              "      <td>1</td>\n",
              "      <td>1</td>\n",
              "      <td>0</td>\n",
              "      <td>0</td>\n",
              "      <td>1</td>\n",
              "      <td>0</td>\n",
              "    </tr>\n",
              "  </tbody>\n",
              "</table>\n",
              "</div>\n",
              "      <button class=\"colab-df-convert\" onclick=\"convertToInteractive('df-7fe1dfee-6895-4298-a7a2-8d7b3388cc11')\"\n",
              "              title=\"Convert this dataframe to an interactive table.\"\n",
              "              style=\"display:none;\">\n",
              "        \n",
              "  <svg xmlns=\"http://www.w3.org/2000/svg\" height=\"24px\"viewBox=\"0 0 24 24\"\n",
              "       width=\"24px\">\n",
              "    <path d=\"M0 0h24v24H0V0z\" fill=\"none\"/>\n",
              "    <path d=\"M18.56 5.44l.94 2.06.94-2.06 2.06-.94-2.06-.94-.94-2.06-.94 2.06-2.06.94zm-11 1L8.5 8.5l.94-2.06 2.06-.94-2.06-.94L8.5 2.5l-.94 2.06-2.06.94zm10 10l.94 2.06.94-2.06 2.06-.94-2.06-.94-.94-2.06-.94 2.06-2.06.94z\"/><path d=\"M17.41 7.96l-1.37-1.37c-.4-.4-.92-.59-1.43-.59-.52 0-1.04.2-1.43.59L10.3 9.45l-7.72 7.72c-.78.78-.78 2.05 0 2.83L4 21.41c.39.39.9.59 1.41.59.51 0 1.02-.2 1.41-.59l7.78-7.78 2.81-2.81c.8-.78.8-2.07 0-2.86zM5.41 20L4 18.59l7.72-7.72 1.47 1.35L5.41 20z\"/>\n",
              "  </svg>\n",
              "      </button>\n",
              "      \n",
              "  <style>\n",
              "    .colab-df-container {\n",
              "      display:flex;\n",
              "      flex-wrap:wrap;\n",
              "      gap: 12px;\n",
              "    }\n",
              "\n",
              "    .colab-df-convert {\n",
              "      background-color: #E8F0FE;\n",
              "      border: none;\n",
              "      border-radius: 50%;\n",
              "      cursor: pointer;\n",
              "      display: none;\n",
              "      fill: #1967D2;\n",
              "      height: 32px;\n",
              "      padding: 0 0 0 0;\n",
              "      width: 32px;\n",
              "    }\n",
              "\n",
              "    .colab-df-convert:hover {\n",
              "      background-color: #E2EBFA;\n",
              "      box-shadow: 0px 1px 2px rgba(60, 64, 67, 0.3), 0px 1px 3px 1px rgba(60, 64, 67, 0.15);\n",
              "      fill: #174EA6;\n",
              "    }\n",
              "\n",
              "    [theme=dark] .colab-df-convert {\n",
              "      background-color: #3B4455;\n",
              "      fill: #D2E3FC;\n",
              "    }\n",
              "\n",
              "    [theme=dark] .colab-df-convert:hover {\n",
              "      background-color: #434B5C;\n",
              "      box-shadow: 0px 1px 3px 1px rgba(0, 0, 0, 0.15);\n",
              "      filter: drop-shadow(0px 1px 2px rgba(0, 0, 0, 0.3));\n",
              "      fill: #FFFFFF;\n",
              "    }\n",
              "  </style>\n",
              "\n",
              "      <script>\n",
              "        const buttonEl =\n",
              "          document.querySelector('#df-7fe1dfee-6895-4298-a7a2-8d7b3388cc11 button.colab-df-convert');\n",
              "        buttonEl.style.display =\n",
              "          google.colab.kernel.accessAllowed ? 'block' : 'none';\n",
              "\n",
              "        async function convertToInteractive(key) {\n",
              "          const element = document.querySelector('#df-7fe1dfee-6895-4298-a7a2-8d7b3388cc11');\n",
              "          const dataTable =\n",
              "            await google.colab.kernel.invokeFunction('convertToInteractive',\n",
              "                                                     [key], {});\n",
              "          if (!dataTable) return;\n",
              "\n",
              "          const docLinkHtml = 'Like what you see? Visit the ' +\n",
              "            '<a target=\"_blank\" href=https://colab.research.google.com/notebooks/data_table.ipynb>data table notebook</a>'\n",
              "            + ' to learn more about interactive tables.';\n",
              "          element.innerHTML = '';\n",
              "          dataTable['output_type'] = 'display_data';\n",
              "          await google.colab.output.renderOutput(dataTable, element);\n",
              "          const docLink = document.createElement('div');\n",
              "          docLink.innerHTML = docLinkHtml;\n",
              "          element.appendChild(docLink);\n",
              "        }\n",
              "      </script>\n",
              "    </div>\n",
              "  </div>\n",
              "  "
            ]
          },
          "metadata": {},
          "execution_count": 4
        }
      ]
    },
    {
      "cell_type": "code",
      "source": [
        "dataset.isna().sum()/len(dataset)"
      ],
      "metadata": {
        "colab": {
          "base_uri": "https://localhost:8080/"
        },
        "id": "XEJHmdSdYbKn",
        "outputId": "1ed06443-9383-4c1b-ec97-fd36f3cad722"
      },
      "execution_count": null,
      "outputs": [
        {
          "output_type": "execute_result",
          "data": {
            "text/plain": [
              "destination             0.000000\n",
              "passanger               0.000000\n",
              "weather                 0.000000\n",
              "temperature             0.000000\n",
              "time                    0.000000\n",
              "coupon                  0.000000\n",
              "expiration              0.000000\n",
              "gender                  0.000000\n",
              "age                     0.000000\n",
              "maritalStatus           0.000000\n",
              "has_children            0.000000\n",
              "education               0.000000\n",
              "occupation              0.000000\n",
              "income                  0.000000\n",
              "car                     0.991485\n",
              "Bar                     0.008436\n",
              "CoffeeHouse             0.017108\n",
              "CarryAway               0.011905\n",
              "RestaurantLessThan20    0.010249\n",
              "Restaurant20To50        0.014901\n",
              "toCoupon_GEQ5min        0.000000\n",
              "toCoupon_GEQ15min       0.000000\n",
              "toCoupon_GEQ25min       0.000000\n",
              "direction_same          0.000000\n",
              "direction_opp           0.000000\n",
              "Y                       0.000000\n",
              "dtype: float64"
            ]
          },
          "metadata": {},
          "execution_count": 5
        }
      ]
    },
    {
      "cell_type": "markdown",
      "source": [
        "##Prepocesamiento"
      ],
      "metadata": {
        "id": "o0lzyg_7Yd54"
      }
    },
    {
      "cell_type": "code",
      "source": [
        "def preprocess_dataset(dataset, save_metadata=True):\n",
        "  preprocessed_dataset = dataset.copy()\n",
        "  \n",
        "  #Eliminamos la variable \"toCoupon_GEQ5min\"\n",
        "  preprocessed_dataset.drop(\"toCoupon_GEQ5min\", axis=1, inplace=True)\n",
        "\n",
        "  #Eliminamos la variable \"direction_same\"\n",
        "  preprocessed_dataset.drop(\"direction_same\", axis=1, inplace=True)\n",
        "\n",
        "  #Determinamos aquellas variables que tengan un porcentaje de registros nulos por cada variable mayor al valor de 0.7\n",
        "  threshold = 0.7\n",
        "  null_percentages = preprocessed_dataset.isna().sum() / len(preprocessed_dataset)\n",
        "  criteria = null_percentages > threshold\n",
        "  columns_to_filter = null_percentages[criteria].keys()\n",
        "\n",
        "  #Eliminamos las variables seleccionadas en el paso anterior\n",
        "  preprocessed_dataset.drop(columns_to_filter, axis=1, inplace=True)\n",
        "\n",
        "  #Eliminamos los registros duplicados\n",
        "  preprocessed_dataset.drop_duplicates(keep=\"first\", inplace=True)\n",
        "\n",
        "  #Determinamos que variables son del tipo númerico y cuales son categóricas\n",
        "  numeric_columns = list()\n",
        "  categorical_columns = list()\n",
        "  dictionary_of_columns_with_index_to_categorical = dict()\n",
        "  dictionary_of_columns_with_categorical_to_index = dict()\n",
        "\n",
        "  for column in preprocessed_dataset:\n",
        "      #Determinamos si la variable es numérica o no\n",
        "      if pd.api.types.is_numeric_dtype(preprocessed_dataset[column]):\n",
        "        numeric_columns.append(column)\n",
        "      else:\n",
        "        #Modificamos el tipo de dato de la variable mediante \"astype\"\n",
        "        preprocessed_dataset[column] = preprocessed_dataset[column].astype(\"category\")\n",
        "\n",
        "        #Verificamos si el tipo de dato de la variable fue transformado a categórico correctamente\n",
        "        if not pd.api.types.is_categorical_dtype(preprocessed_dataset[column]):\n",
        "          raise Exception(\"La columna {} no se transformó correctamente a categórica\".format(column))\n",
        "\n",
        "        dictionary_of_columns_with_index_to_categorical[column] = dict()\n",
        "        dictionary_of_columns_with_categorical_to_index[column] = dict()\n",
        "        \n",
        "        #Indexamos los valores (categorías), sin tomar en consideración los nulos, de la variable y guardamos esa información en los diccionarios\n",
        "        for index, category in enumerate(preprocessed_dataset[column].cat.categories):\n",
        "          dictionary_of_columns_with_index_to_categorical[column][index] = category\n",
        "          dictionary_of_columns_with_categorical_to_index[column][category] = index\n",
        "        \n",
        "        categorical_columns.append(column)\n",
        "    \n",
        "  #Reemplazamos los nulos con la mediana sólo de aquellas variables numéricas\n",
        "  median_of_numeric_columns = preprocessed_dataset[numeric_columns].median()\n",
        "\n",
        "  preprocessed_dataset[numeric_columns] = preprocessed_dataset[numeric_columns].fillna(median_of_numeric_columns)\n",
        "\n",
        "  #Transformamos a números los valores (categorías) de las variables categóricas sin considerar los nulos\n",
        "  preprocessed_dataset.replace(dictionary_of_columns_with_categorical_to_index, inplace=True)\n",
        "\n",
        "  #Generamos una nueva lista de variables categóricas y las variables eliminadas por tener un porcentaje alto de registros nulos\n",
        "  categorical_columns_filtered = categorical_columns[:]\n",
        "  \n",
        "  if len(categorical_columns_filtered) > 0:\n",
        "    #Reemplazamos los nulos con la mediana para todas las variables y las variables eliminadas por tener un porcentaje alto de registros nulos\n",
        "    median_of_categorical_columns = preprocessed_dataset[categorical_columns_filtered].median()\n",
        "\n",
        "    preprocessed_dataset[categorical_columns_filtered] = preprocessed_dataset[categorical_columns_filtered].fillna(median_of_categorical_columns)\n",
        "  \n",
        "  if save_metadata:\n",
        "    #Guardamos información que consideremos imporante. El formato pickle nos permite guardar objetos de python\n",
        "    with open(\"numeric_columns.pkl\", \"wb\") as f:\n",
        "      pickle.dump(numeric_columns, f)\n",
        "    \n",
        "    with open(\"categorical_columns.pkl\", \"wb\") as f:\n",
        "      pickle.dump(categorical_columns, f)\n",
        "    \n",
        "    with open(\"dictionary_of_columns_with_index_to_categorical.pkl\", \"wb\") as f:\n",
        "      pickle.dump(dictionary_of_columns_with_index_to_categorical, f)\n",
        "    \n",
        "    with open(\"dictionary_of_columns_with_categorical_to_index.pkl\", \"wb\") as f:\n",
        "      pickle.dump(dictionary_of_columns_with_categorical_to_index, f)\n",
        "      \n",
        "  return preprocessed_dataset"
      ],
      "metadata": {
        "id": "mcvtE7gMYg84"
      },
      "execution_count": null,
      "outputs": []
    },
    {
      "cell_type": "code",
      "source": [
        "# Preprocesamos los datos   \n",
        "preprocess_dataset=preprocess_dataset(dataset)"
      ],
      "metadata": {
        "id": "S7xUISUxYqaI"
      },
      "execution_count": null,
      "outputs": []
    },
    {
      "cell_type": "code",
      "source": [
        "#guadarmos nuestro dataset pre-procesado en formato pickle  \n",
        "preprocess_dataset.to_pickle(\"preprocessed_dataset_in_vehicle_train.pkl\")"
      ],
      "metadata": {
        "id": "V2L-r21SYsQo"
      },
      "execution_count": null,
      "outputs": []
    },
    {
      "cell_type": "code",
      "source": [
        "preprocess_dataset.shape"
      ],
      "metadata": {
        "colab": {
          "base_uri": "https://localhost:8080/"
        },
        "id": "XqckW0WWYuDR",
        "outputId": "6a0220cd-92bd-450a-b494-aa9fee880b08"
      },
      "execution_count": null,
      "outputs": [
        {
          "output_type": "execute_result",
          "data": {
            "text/plain": [
              "(12610, 23)"
            ]
          },
          "metadata": {},
          "execution_count": 9
        }
      ]
    },
    {
      "cell_type": "code",
      "source": [
        "preprocess_dataset.head()"
      ],
      "metadata": {
        "colab": {
          "base_uri": "https://localhost:8080/",
          "height": 270
        },
        "id": "P-X0OHATYwcQ",
        "outputId": "07b3c429-2a51-48f1-aad8-a0519c4dd736"
      },
      "execution_count": null,
      "outputs": [
        {
          "output_type": "execute_result",
          "data": {
            "text/plain": [
              "   destination  passanger  weather  temperature  time  coupon  expiration  \\\n",
              "0            1          0        2           55     2       4           0   \n",
              "1            1          1        2           80     0       2           1   \n",
              "2            1          1        2           80     0       1           1   \n",
              "3            1          1        2           80     2       2           1   \n",
              "4            1          1        2           80     2       2           0   \n",
              "\n",
              "   gender  age  maritalStatus  has_children  education  occupation  income  \\\n",
              "0       0    0              3             1          5          24       3   \n",
              "1       0    0              3             1          5          24       3   \n",
              "2       0    0              3             1          5          24       3   \n",
              "3       0    0              3             1          5          24       3   \n",
              "4       0    0              3             1          5          24       3   \n",
              "\n",
              "   Bar  CoffeeHouse  CarryAway  RestaurantLessThan20  Restaurant20To50  \\\n",
              "0  4.0          4.0        1.0                   1.0               0.0   \n",
              "1  4.0          4.0        1.0                   1.0               0.0   \n",
              "2  4.0          4.0        1.0                   1.0               0.0   \n",
              "3  4.0          4.0        1.0                   1.0               0.0   \n",
              "4  4.0          4.0        1.0                   1.0               0.0   \n",
              "\n",
              "   toCoupon_GEQ15min  toCoupon_GEQ25min  direction_opp  Y  \n",
              "0                  0                  0              1  1  \n",
              "1                  0                  0              1  0  \n",
              "2                  1                  0              1  1  \n",
              "3                  1                  0              1  0  \n",
              "4                  1                  0              1  0  "
            ],
            "text/html": [
              "\n",
              "  <div id=\"df-54b8134c-8ce2-4996-b23f-e9cb2f807841\">\n",
              "    <div class=\"colab-df-container\">\n",
              "      <div>\n",
              "<style scoped>\n",
              "    .dataframe tbody tr th:only-of-type {\n",
              "        vertical-align: middle;\n",
              "    }\n",
              "\n",
              "    .dataframe tbody tr th {\n",
              "        vertical-align: top;\n",
              "    }\n",
              "\n",
              "    .dataframe thead th {\n",
              "        text-align: right;\n",
              "    }\n",
              "</style>\n",
              "<table border=\"1\" class=\"dataframe\">\n",
              "  <thead>\n",
              "    <tr style=\"text-align: right;\">\n",
              "      <th></th>\n",
              "      <th>destination</th>\n",
              "      <th>passanger</th>\n",
              "      <th>weather</th>\n",
              "      <th>temperature</th>\n",
              "      <th>time</th>\n",
              "      <th>coupon</th>\n",
              "      <th>expiration</th>\n",
              "      <th>gender</th>\n",
              "      <th>age</th>\n",
              "      <th>maritalStatus</th>\n",
              "      <th>has_children</th>\n",
              "      <th>education</th>\n",
              "      <th>occupation</th>\n",
              "      <th>income</th>\n",
              "      <th>Bar</th>\n",
              "      <th>CoffeeHouse</th>\n",
              "      <th>CarryAway</th>\n",
              "      <th>RestaurantLessThan20</th>\n",
              "      <th>Restaurant20To50</th>\n",
              "      <th>toCoupon_GEQ15min</th>\n",
              "      <th>toCoupon_GEQ25min</th>\n",
              "      <th>direction_opp</th>\n",
              "      <th>Y</th>\n",
              "    </tr>\n",
              "  </thead>\n",
              "  <tbody>\n",
              "    <tr>\n",
              "      <th>0</th>\n",
              "      <td>1</td>\n",
              "      <td>0</td>\n",
              "      <td>2</td>\n",
              "      <td>55</td>\n",
              "      <td>2</td>\n",
              "      <td>4</td>\n",
              "      <td>0</td>\n",
              "      <td>0</td>\n",
              "      <td>0</td>\n",
              "      <td>3</td>\n",
              "      <td>1</td>\n",
              "      <td>5</td>\n",
              "      <td>24</td>\n",
              "      <td>3</td>\n",
              "      <td>4.0</td>\n",
              "      <td>4.0</td>\n",
              "      <td>1.0</td>\n",
              "      <td>1.0</td>\n",
              "      <td>0.0</td>\n",
              "      <td>0</td>\n",
              "      <td>0</td>\n",
              "      <td>1</td>\n",
              "      <td>1</td>\n",
              "    </tr>\n",
              "    <tr>\n",
              "      <th>1</th>\n",
              "      <td>1</td>\n",
              "      <td>1</td>\n",
              "      <td>2</td>\n",
              "      <td>80</td>\n",
              "      <td>0</td>\n",
              "      <td>2</td>\n",
              "      <td>1</td>\n",
              "      <td>0</td>\n",
              "      <td>0</td>\n",
              "      <td>3</td>\n",
              "      <td>1</td>\n",
              "      <td>5</td>\n",
              "      <td>24</td>\n",
              "      <td>3</td>\n",
              "      <td>4.0</td>\n",
              "      <td>4.0</td>\n",
              "      <td>1.0</td>\n",
              "      <td>1.0</td>\n",
              "      <td>0.0</td>\n",
              "      <td>0</td>\n",
              "      <td>0</td>\n",
              "      <td>1</td>\n",
              "      <td>0</td>\n",
              "    </tr>\n",
              "    <tr>\n",
              "      <th>2</th>\n",
              "      <td>1</td>\n",
              "      <td>1</td>\n",
              "      <td>2</td>\n",
              "      <td>80</td>\n",
              "      <td>0</td>\n",
              "      <td>1</td>\n",
              "      <td>1</td>\n",
              "      <td>0</td>\n",
              "      <td>0</td>\n",
              "      <td>3</td>\n",
              "      <td>1</td>\n",
              "      <td>5</td>\n",
              "      <td>24</td>\n",
              "      <td>3</td>\n",
              "      <td>4.0</td>\n",
              "      <td>4.0</td>\n",
              "      <td>1.0</td>\n",
              "      <td>1.0</td>\n",
              "      <td>0.0</td>\n",
              "      <td>1</td>\n",
              "      <td>0</td>\n",
              "      <td>1</td>\n",
              "      <td>1</td>\n",
              "    </tr>\n",
              "    <tr>\n",
              "      <th>3</th>\n",
              "      <td>1</td>\n",
              "      <td>1</td>\n",
              "      <td>2</td>\n",
              "      <td>80</td>\n",
              "      <td>2</td>\n",
              "      <td>2</td>\n",
              "      <td>1</td>\n",
              "      <td>0</td>\n",
              "      <td>0</td>\n",
              "      <td>3</td>\n",
              "      <td>1</td>\n",
              "      <td>5</td>\n",
              "      <td>24</td>\n",
              "      <td>3</td>\n",
              "      <td>4.0</td>\n",
              "      <td>4.0</td>\n",
              "      <td>1.0</td>\n",
              "      <td>1.0</td>\n",
              "      <td>0.0</td>\n",
              "      <td>1</td>\n",
              "      <td>0</td>\n",
              "      <td>1</td>\n",
              "      <td>0</td>\n",
              "    </tr>\n",
              "    <tr>\n",
              "      <th>4</th>\n",
              "      <td>1</td>\n",
              "      <td>1</td>\n",
              "      <td>2</td>\n",
              "      <td>80</td>\n",
              "      <td>2</td>\n",
              "      <td>2</td>\n",
              "      <td>0</td>\n",
              "      <td>0</td>\n",
              "      <td>0</td>\n",
              "      <td>3</td>\n",
              "      <td>1</td>\n",
              "      <td>5</td>\n",
              "      <td>24</td>\n",
              "      <td>3</td>\n",
              "      <td>4.0</td>\n",
              "      <td>4.0</td>\n",
              "      <td>1.0</td>\n",
              "      <td>1.0</td>\n",
              "      <td>0.0</td>\n",
              "      <td>1</td>\n",
              "      <td>0</td>\n",
              "      <td>1</td>\n",
              "      <td>0</td>\n",
              "    </tr>\n",
              "  </tbody>\n",
              "</table>\n",
              "</div>\n",
              "      <button class=\"colab-df-convert\" onclick=\"convertToInteractive('df-54b8134c-8ce2-4996-b23f-e9cb2f807841')\"\n",
              "              title=\"Convert this dataframe to an interactive table.\"\n",
              "              style=\"display:none;\">\n",
              "        \n",
              "  <svg xmlns=\"http://www.w3.org/2000/svg\" height=\"24px\"viewBox=\"0 0 24 24\"\n",
              "       width=\"24px\">\n",
              "    <path d=\"M0 0h24v24H0V0z\" fill=\"none\"/>\n",
              "    <path d=\"M18.56 5.44l.94 2.06.94-2.06 2.06-.94-2.06-.94-.94-2.06-.94 2.06-2.06.94zm-11 1L8.5 8.5l.94-2.06 2.06-.94-2.06-.94L8.5 2.5l-.94 2.06-2.06.94zm10 10l.94 2.06.94-2.06 2.06-.94-2.06-.94-.94-2.06-.94 2.06-2.06.94z\"/><path d=\"M17.41 7.96l-1.37-1.37c-.4-.4-.92-.59-1.43-.59-.52 0-1.04.2-1.43.59L10.3 9.45l-7.72 7.72c-.78.78-.78 2.05 0 2.83L4 21.41c.39.39.9.59 1.41.59.51 0 1.02-.2 1.41-.59l7.78-7.78 2.81-2.81c.8-.78.8-2.07 0-2.86zM5.41 20L4 18.59l7.72-7.72 1.47 1.35L5.41 20z\"/>\n",
              "  </svg>\n",
              "      </button>\n",
              "      \n",
              "  <style>\n",
              "    .colab-df-container {\n",
              "      display:flex;\n",
              "      flex-wrap:wrap;\n",
              "      gap: 12px;\n",
              "    }\n",
              "\n",
              "    .colab-df-convert {\n",
              "      background-color: #E8F0FE;\n",
              "      border: none;\n",
              "      border-radius: 50%;\n",
              "      cursor: pointer;\n",
              "      display: none;\n",
              "      fill: #1967D2;\n",
              "      height: 32px;\n",
              "      padding: 0 0 0 0;\n",
              "      width: 32px;\n",
              "    }\n",
              "\n",
              "    .colab-df-convert:hover {\n",
              "      background-color: #E2EBFA;\n",
              "      box-shadow: 0px 1px 2px rgba(60, 64, 67, 0.3), 0px 1px 3px 1px rgba(60, 64, 67, 0.15);\n",
              "      fill: #174EA6;\n",
              "    }\n",
              "\n",
              "    [theme=dark] .colab-df-convert {\n",
              "      background-color: #3B4455;\n",
              "      fill: #D2E3FC;\n",
              "    }\n",
              "\n",
              "    [theme=dark] .colab-df-convert:hover {\n",
              "      background-color: #434B5C;\n",
              "      box-shadow: 0px 1px 3px 1px rgba(0, 0, 0, 0.15);\n",
              "      filter: drop-shadow(0px 1px 2px rgba(0, 0, 0, 0.3));\n",
              "      fill: #FFFFFF;\n",
              "    }\n",
              "  </style>\n",
              "\n",
              "      <script>\n",
              "        const buttonEl =\n",
              "          document.querySelector('#df-54b8134c-8ce2-4996-b23f-e9cb2f807841 button.colab-df-convert');\n",
              "        buttonEl.style.display =\n",
              "          google.colab.kernel.accessAllowed ? 'block' : 'none';\n",
              "\n",
              "        async function convertToInteractive(key) {\n",
              "          const element = document.querySelector('#df-54b8134c-8ce2-4996-b23f-e9cb2f807841');\n",
              "          const dataTable =\n",
              "            await google.colab.kernel.invokeFunction('convertToInteractive',\n",
              "                                                     [key], {});\n",
              "          if (!dataTable) return;\n",
              "\n",
              "          const docLinkHtml = 'Like what you see? Visit the ' +\n",
              "            '<a target=\"_blank\" href=https://colab.research.google.com/notebooks/data_table.ipynb>data table notebook</a>'\n",
              "            + ' to learn more about interactive tables.';\n",
              "          element.innerHTML = '';\n",
              "          dataTable['output_type'] = 'display_data';\n",
              "          await google.colab.output.renderOutput(dataTable, element);\n",
              "          const docLink = document.createElement('div');\n",
              "          docLink.innerHTML = docLinkHtml;\n",
              "          element.appendChild(docLink);\n",
              "        }\n",
              "      </script>\n",
              "    </div>\n",
              "  </div>\n",
              "  "
            ]
          },
          "metadata": {},
          "execution_count": 10
        }
      ]
    },
    {
      "cell_type": "code",
      "source": [
        "#Cargamos los datos previamente guardados\n",
        "with open(\"numeric_columns.pkl\", \"rb\") as f:\n",
        "    numeric_columns = pickle.load(f)\n",
        "\n",
        "with open(\"categorical_columns.pkl\", \"rb\") as f:\n",
        "  categorical_columns = pickle.load(f)\n",
        "\n",
        "with open(\"dictionary_of_columns_with_index_to_categorical.pkl\", \"rb\") as f:\n",
        "  dictionary_of_columns_with_index_to_categorical = pickle.load(f)\n",
        "\n",
        "with open(\"dictionary_of_columns_with_categorical_to_index.pkl\", \"rb\") as f:\n",
        "  dictionary_of_columns_with_categorical_to_index = pickle.load(f)\n",
        "\n",
        "preprocessed_dataset = pd.read_pickle(\"preprocessed_dataset_in_vehicle_train.pkl\")"
      ],
      "metadata": {
        "id": "3wXfnD7HY01Y"
      },
      "execution_count": null,
      "outputs": []
    },
    {
      "cell_type": "code",
      "source": [
        "dictionary_of_columns_with_categorical_to_index"
      ],
      "metadata": {
        "colab": {
          "base_uri": "https://localhost:8080/"
        },
        "id": "fhFTSO3NY37A",
        "outputId": "2b8846c0-e27e-4ec0-ed53-6ed1c83107fe"
      },
      "execution_count": null,
      "outputs": [
        {
          "output_type": "execute_result",
          "data": {
            "text/plain": [
              "{'Bar': {'1~3': 0, '4~8': 1, 'gt8': 2, 'less1': 3, 'never': 4},\n",
              " 'CarryAway': {'1~3': 0, '4~8': 1, 'gt8': 2, 'less1': 3, 'never': 4},\n",
              " 'CoffeeHouse': {'1~3': 0, '4~8': 1, 'gt8': 2, 'less1': 3, 'never': 4},\n",
              " 'Restaurant20To50': {'1~3': 0, '4~8': 1, 'gt8': 2, 'less1': 3, 'never': 4},\n",
              " 'RestaurantLessThan20': {'1~3': 0,\n",
              "  '4~8': 1,\n",
              "  'gt8': 2,\n",
              "  'less1': 3,\n",
              "  'never': 4},\n",
              " 'age': {'21': 0,\n",
              "  '26': 1,\n",
              "  '31': 2,\n",
              "  '36': 3,\n",
              "  '41': 4,\n",
              "  '46': 5,\n",
              "  '50plus': 6,\n",
              "  'below21': 7},\n",
              " 'coupon': {'Bar': 0,\n",
              "  'Carry out & Take away': 1,\n",
              "  'Coffee House': 2,\n",
              "  'Restaurant(20-50)': 3,\n",
              "  'Restaurant(<20)': 4},\n",
              " 'destination': {'Home': 0, 'No Urgent Place': 1, 'Work': 2},\n",
              " 'education': {'Associates degree': 0,\n",
              "  'Bachelors degree': 1,\n",
              "  'Graduate degree (Masters or Doctorate)': 2,\n",
              "  'High School Graduate': 3,\n",
              "  'Some High School': 4,\n",
              "  'Some college - no degree': 5},\n",
              " 'expiration': {'1d': 0, '2h': 1},\n",
              " 'gender': {'Female': 0, 'Male': 1},\n",
              " 'income': {'$100000 or More': 0,\n",
              "  '$12500 - $24999': 1,\n",
              "  '$25000 - $37499': 2,\n",
              "  '$37500 - $49999': 3,\n",
              "  '$50000 - $62499': 4,\n",
              "  '$62500 - $74999': 5,\n",
              "  '$75000 - $87499': 6,\n",
              "  '$87500 - $99999': 7,\n",
              "  'Less than $12500': 8},\n",
              " 'maritalStatus': {'Divorced': 0,\n",
              "  'Married partner': 1,\n",
              "  'Single': 2,\n",
              "  'Unmarried partner': 3,\n",
              "  'Widowed': 4},\n",
              " 'occupation': {'Architecture & Engineering': 0,\n",
              "  'Arts Design Entertainment Sports & Media': 1,\n",
              "  'Building & Grounds Cleaning & Maintenance': 2,\n",
              "  'Business & Financial': 3,\n",
              "  'Community & Social Services': 4,\n",
              "  'Computer & Mathematical': 5,\n",
              "  'Construction & Extraction': 6,\n",
              "  'Education&Training&Library': 7,\n",
              "  'Farming Fishing & Forestry': 8,\n",
              "  'Food Preparation & Serving Related': 9,\n",
              "  'Healthcare Practitioners & Technical': 10,\n",
              "  'Healthcare Support': 11,\n",
              "  'Installation Maintenance & Repair': 12,\n",
              "  'Legal': 13,\n",
              "  'Life Physical Social Science': 14,\n",
              "  'Management': 15,\n",
              "  'Office & Administrative Support': 16,\n",
              "  'Personal Care & Service': 17,\n",
              "  'Production Occupations': 18,\n",
              "  'Protective Service': 19,\n",
              "  'Retired': 20,\n",
              "  'Sales & Related': 21,\n",
              "  'Student': 22,\n",
              "  'Transportation & Material Moving': 23,\n",
              "  'Unemployed': 24},\n",
              " 'passanger': {'Alone': 0, 'Friend(s)': 1, 'Kid(s)': 2, 'Partner': 3},\n",
              " 'time': {'10AM': 0, '10PM': 1, '2PM': 2, '6PM': 3, '7AM': 4},\n",
              " 'weather': {'Rainy': 0, 'Snowy': 1, 'Sunny': 2}}"
            ]
          },
          "metadata": {},
          "execution_count": 12
        }
      ]
    },
    {
      "cell_type": "markdown",
      "source": [
        "##Visualización de datos"
      ],
      "metadata": {
        "id": "rlaV2cfxY7XI"
      }
    },
    {
      "cell_type": "code",
      "source": [
        "width=20\n",
        "height=5\n",
        "\n",
        "plt.style.use('default');\n",
        "figure, axes = plt.subplots(nrows=2,ncols=8, figsize=(width,height))\n",
        "\n",
        "for column, axe in zip(preprocess_dataset, axes.flatten()):\n",
        "  sns.distplot(preprocess_dataset[column],ax=axe)\n",
        "\n",
        "plt.tight_layout()"
      ],
      "metadata": {
        "colab": {
          "base_uri": "https://localhost:8080/",
          "height": 751
        },
        "id": "972YQjIEY5xI",
        "outputId": "76b3111d-51ff-45a2-b09f-3b59e8c40337"
      },
      "execution_count": null,
      "outputs": [
        {
          "output_type": "stream",
          "name": "stderr",
          "text": [
            "/usr/local/lib/python3.7/dist-packages/seaborn/distributions.py:2619: FutureWarning: `distplot` is a deprecated function and will be removed in a future version. Please adapt your code to use either `displot` (a figure-level function with similar flexibility) or `histplot` (an axes-level function for histograms).\n",
            "  warnings.warn(msg, FutureWarning)\n",
            "/usr/local/lib/python3.7/dist-packages/seaborn/distributions.py:2619: FutureWarning: `distplot` is a deprecated function and will be removed in a future version. Please adapt your code to use either `displot` (a figure-level function with similar flexibility) or `histplot` (an axes-level function for histograms).\n",
            "  warnings.warn(msg, FutureWarning)\n",
            "/usr/local/lib/python3.7/dist-packages/seaborn/distributions.py:2619: FutureWarning: `distplot` is a deprecated function and will be removed in a future version. Please adapt your code to use either `displot` (a figure-level function with similar flexibility) or `histplot` (an axes-level function for histograms).\n",
            "  warnings.warn(msg, FutureWarning)\n",
            "/usr/local/lib/python3.7/dist-packages/seaborn/distributions.py:2619: FutureWarning: `distplot` is a deprecated function and will be removed in a future version. Please adapt your code to use either `displot` (a figure-level function with similar flexibility) or `histplot` (an axes-level function for histograms).\n",
            "  warnings.warn(msg, FutureWarning)\n",
            "/usr/local/lib/python3.7/dist-packages/seaborn/distributions.py:2619: FutureWarning: `distplot` is a deprecated function and will be removed in a future version. Please adapt your code to use either `displot` (a figure-level function with similar flexibility) or `histplot` (an axes-level function for histograms).\n",
            "  warnings.warn(msg, FutureWarning)\n",
            "/usr/local/lib/python3.7/dist-packages/seaborn/distributions.py:2619: FutureWarning: `distplot` is a deprecated function and will be removed in a future version. Please adapt your code to use either `displot` (a figure-level function with similar flexibility) or `histplot` (an axes-level function for histograms).\n",
            "  warnings.warn(msg, FutureWarning)\n",
            "/usr/local/lib/python3.7/dist-packages/seaborn/distributions.py:2619: FutureWarning: `distplot` is a deprecated function and will be removed in a future version. Please adapt your code to use either `displot` (a figure-level function with similar flexibility) or `histplot` (an axes-level function for histograms).\n",
            "  warnings.warn(msg, FutureWarning)\n",
            "/usr/local/lib/python3.7/dist-packages/seaborn/distributions.py:2619: FutureWarning: `distplot` is a deprecated function and will be removed in a future version. Please adapt your code to use either `displot` (a figure-level function with similar flexibility) or `histplot` (an axes-level function for histograms).\n",
            "  warnings.warn(msg, FutureWarning)\n",
            "/usr/local/lib/python3.7/dist-packages/seaborn/distributions.py:2619: FutureWarning: `distplot` is a deprecated function and will be removed in a future version. Please adapt your code to use either `displot` (a figure-level function with similar flexibility) or `histplot` (an axes-level function for histograms).\n",
            "  warnings.warn(msg, FutureWarning)\n",
            "/usr/local/lib/python3.7/dist-packages/seaborn/distributions.py:2619: FutureWarning: `distplot` is a deprecated function and will be removed in a future version. Please adapt your code to use either `displot` (a figure-level function with similar flexibility) or `histplot` (an axes-level function for histograms).\n",
            "  warnings.warn(msg, FutureWarning)\n",
            "/usr/local/lib/python3.7/dist-packages/seaborn/distributions.py:2619: FutureWarning: `distplot` is a deprecated function and will be removed in a future version. Please adapt your code to use either `displot` (a figure-level function with similar flexibility) or `histplot` (an axes-level function for histograms).\n",
            "  warnings.warn(msg, FutureWarning)\n",
            "/usr/local/lib/python3.7/dist-packages/seaborn/distributions.py:2619: FutureWarning: `distplot` is a deprecated function and will be removed in a future version. Please adapt your code to use either `displot` (a figure-level function with similar flexibility) or `histplot` (an axes-level function for histograms).\n",
            "  warnings.warn(msg, FutureWarning)\n",
            "/usr/local/lib/python3.7/dist-packages/seaborn/distributions.py:2619: FutureWarning: `distplot` is a deprecated function and will be removed in a future version. Please adapt your code to use either `displot` (a figure-level function with similar flexibility) or `histplot` (an axes-level function for histograms).\n",
            "  warnings.warn(msg, FutureWarning)\n",
            "/usr/local/lib/python3.7/dist-packages/seaborn/distributions.py:2619: FutureWarning: `distplot` is a deprecated function and will be removed in a future version. Please adapt your code to use either `displot` (a figure-level function with similar flexibility) or `histplot` (an axes-level function for histograms).\n",
            "  warnings.warn(msg, FutureWarning)\n",
            "/usr/local/lib/python3.7/dist-packages/seaborn/distributions.py:2619: FutureWarning: `distplot` is a deprecated function and will be removed in a future version. Please adapt your code to use either `displot` (a figure-level function with similar flexibility) or `histplot` (an axes-level function for histograms).\n",
            "  warnings.warn(msg, FutureWarning)\n",
            "/usr/local/lib/python3.7/dist-packages/seaborn/distributions.py:2619: FutureWarning: `distplot` is a deprecated function and will be removed in a future version. Please adapt your code to use either `displot` (a figure-level function with similar flexibility) or `histplot` (an axes-level function for histograms).\n",
            "  warnings.warn(msg, FutureWarning)\n"
          ]
        },
        {
          "output_type": "display_data",
          "data": {
            "text/plain": [
              "<Figure size 2000x500 with 16 Axes>"
            ],
            "image/png": "[encoded data removed]"
          },
          "metadata": {}
        }
      ]
    },
    {
      "cell_type": "markdown",
      "source": [
        "##División de datos"
      ],
      "metadata": {
        "id": "wQ10BdJOZlM5"
      }
    },
    {
      "cell_type": "code",
      "source": [
        "#Separamos la data, en variables independientes (x) y dependientes (y), para poder entrenar un árbol de clasificación\n",
        "x = preprocessed_dataset.drop(\"Y\", axis=1)\n",
        "y = preprocessed_dataset[\"Y\"]"
      ],
      "metadata": {
        "id": "juLvZ6EHZq5S"
      },
      "execution_count": null,
      "outputs": []
    },
    {
      "cell_type": "code",
      "source": [
        "x.head()"
      ],
      "metadata": {
        "id": "UfGR-IAgZwJw"
      },
      "execution_count": null,
      "outputs": []
    },
    {
      "cell_type": "markdown",
      "source": [
        "##Separamos datos para entrenamiento y prueba"
      ],
      "metadata": {
        "id": "QzXeb7eJZ1XQ"
      }
    },
    {
      "cell_type": "code",
      "source": [
        "#Mediante el método \"train_test_split\" usaremos el 20% de la data para probar el modelo. El parámetro \"random state\" nos sirve para\n",
        "x_train,x_test,y_train, y_test=train_test_split(x,y,test_size=0.2,random_state=0,stratify=y)\n"
      ],
      "metadata": {
        "id": "1-BohN7rZ0qI"
      },
      "execution_count": null,
      "outputs": []
    },
    {
      "cell_type": "code",
      "source": [
        "print(f\"Train Shape: {x_train.shape}\")\n",
        "print(f\"Test shape: {x_test.shape}\")"
      ],
      "metadata": {
        "colab": {
          "base_uri": "https://localhost:8080/"
        },
        "id": "6BMaDalKZ_vo",
        "outputId": "587b5646-bf8d-4c07-f288-daf596589173"
      },
      "execution_count": null,
      "outputs": [
        {
          "output_type": "stream",
          "name": "stdout",
          "text": [
            "Train Shape: (10088, 22)\n",
            "Test shape: (2522, 22)\n"
          ]
        }
      ]
    },
    {
      "cell_type": "markdown",
      "source": [
        "##Entrenamiento y verificación con CART"
      ],
      "metadata": {
        "id": "LgF6OXSmaCUy"
      }
    },
    {
      "cell_type": "code",
      "source": [
        "model = DecisionTreeClassifier(max_depth=3)\n",
        "model.fit(x_train,y_train)"
      ],
      "metadata": {
        "colab": {
          "base_uri": "https://localhost:8080/"
        },
        "id": "9OrnNuscaE3A",
        "outputId": "22e1bd16-5254-43a7-acfc-f2d34cb5b997"
      },
      "execution_count": null,
      "outputs": [
        {
          "output_type": "execute_result",
          "data": {
            "text/plain": [
              "DecisionTreeClassifier(max_depth=3)"
            ]
          },
          "metadata": {},
          "execution_count": 25
        }
      ]
    },
    {
      "cell_type": "code",
      "source": [
        "#Podemos verificar las etiquetas que tuvo que predecir nuestro árbol de clasificación\n",
        "print(\"Etiquetas a predecir: {}\".format(set(y_train)))\n",
        "\n",
        "print(\"Etiquetas predecidas: {}\".format(model.classes_))"
      ],
      "metadata": {
        "colab": {
          "base_uri": "https://localhost:8080/"
        },
        "id": "-zsi7mXFaO7i",
        "outputId": "62373357-1281-4dfc-eca7-78f0b210e1b7"
      },
      "execution_count": null,
      "outputs": [
        {
          "output_type": "stream",
          "name": "stdout",
          "text": [
            "Etiquetas a predecir: {0, 1}\n",
            "Etiquetas predecidas: [0 1]\n"
          ]
        }
      ]
    },
    {
      "cell_type": "code",
      "source": [
        "#La exactitud (accuracy) obtenido con los datos de entramiento\n",
        "model.score(x_train,y_train) "
      ],
      "metadata": {
        "colab": {
          "base_uri": "https://localhost:8080/"
        },
        "id": "Mqtq8M_Salgx",
        "outputId": "393bc416-fa93-4b94-998d-09fca82dab06"
      },
      "execution_count": null,
      "outputs": [
        {
          "output_type": "execute_result",
          "data": {
            "text/plain": [
              "0.6471054718477399"
            ]
          },
          "metadata": {},
          "execution_count": 27
        }
      ]
    },
    {
      "cell_type": "markdown",
      "source": [
        "##Visualización del árbol"
      ],
      "metadata": {
        "id": "kxDfLItobIDP"
      }
    },
    {
      "cell_type": "code",
      "source": [
        "from sklearn.tree import export_graphviz\n",
        "from graphviz import Source\n",
        "from IPython.display import SVG\n",
        "\n",
        "classes = [(str(model_class) if isinstance(model_class, np.integer) else model_class) for model_class in model.classes_]\n",
        "\n",
        "graph = Source(export_graphviz(model, feature_names=x.columns, class_names=classes, filled=True))\n",
        "\n",
        "SVG(graph.pipe(format=\"svg\"))"
      ],
      "metadata": {
        "colab": {
          "base_uri": "https://localhost:8080/",
          "height": 619
        },
        "id": "ZjZRM2dGa6DR",
        "outputId": "d675a104-1838-438c-9528-cb83426fcd22"
      },
      "execution_count": null,
      "outputs": [
        {
          "output_type": "execute_result",
          "data": {
            "text/plain": [
              "<IPython.core.display.SVG object>"
            ],
            "image/svg+xml": "<svg height=\"433pt\" viewBox=\"0.00 0.00 1175.50 433.00\" width=\"1176pt\" xmlns=\"http://www.w3.org/2000/svg\" xmlns:xlink=\"http://www.w3.org/1999/xlink\">\n<g class=\"graph\" id=\"graph0\" transform=\"scale(1 1) rotate(0) translate(4 429)\">\n<title>Tree</title>\n<polygon fill=\"#ffffff\" points=\"-4,4 -4,-429 1171.5,-429 1171.5,4 -4,4\" stroke=\"transparent\"/>\n<!-- 0 -->\n<g class=\"node\" id=\"node1\">\n<title>0</title>\n<polygon fill=\"#d0e8f9\" points=\"660.5,-425 511.5,-425 511.5,-342 660.5,-342 660.5,-425\" stroke=\"#000000\"/>\n<text fill=\"#000000\" font-family=\"Helvetica,sans-Serif\" font-size=\"14.00\" text-anchor=\"middle\" x=\"586\" y=\"-409.8\">coupon &lt;= 3.5</text>\n<text fill=\"#000000\" font-family=\"Helvetica,sans-Serif\" font-size=\"14.00\" text-anchor=\"middle\" x=\"586\" y=\"-394.8\">gini = 0.491</text>\n<text fill=\"#000000\" font-family=\"Helvetica,sans-Serif\" font-size=\"14.00\" text-anchor=\"middle\" x=\"586\" y=\"-379.8\">samples = 10088</text>\n<text fill=\"#000000\" font-family=\"Helvetica,sans-Serif\" font-size=\"14.00\" text-anchor=\"middle\" x=\"586\" y=\"-364.8\">value = [4362, 5726]</text>\n<text fill=\"#000000\" font-family=\"Helvetica,sans-Serif\" font-size=\"14.00\" text-anchor=\"middle\" x=\"586\" y=\"-349.8\">class = 1</text>\n</g>\n<!-- 1 -->\n<g class=\"node\" id=\"node2\">\n<title>1</title>\n<polygon fill=\"#ebf5fc\" points=\"512.5,-306 363.5,-306 363.5,-223 512.5,-223 512.5,-306\" stroke=\"#000000\"/>\n<text fill=\"#000000\" font-family=\"Helvetica,sans-Serif\" font-size=\"14.00\" text-anchor=\"middle\" x=\"438\" y=\"-290.8\">CoffeeHouse &lt;= 3.5</text>\n<text fill=\"#000000\" font-family=\"Helvetica,sans-Serif\" font-size=\"14.00\" text-anchor=\"middle\" x=\"438\" y=\"-275.8\">gini = 0.499</text>\n<text fill=\"#000000\" font-family=\"Helvetica,sans-Serif\" font-size=\"14.00\" text-anchor=\"middle\" x=\"438\" y=\"-260.8\">samples = 7861</text>\n<text fill=\"#000000\" font-family=\"Helvetica,sans-Serif\" font-size=\"14.00\" text-anchor=\"middle\" x=\"438\" y=\"-245.8\">value = [3724, 4137]</text>\n<text fill=\"#000000\" font-family=\"Helvetica,sans-Serif\" font-size=\"14.00\" text-anchor=\"middle\" x=\"438\" y=\"-230.8\">class = 1</text>\n</g>\n<!-- 0&#45;&gt;1 -->\n<g class=\"edge\" id=\"edge1\">\n<title>0-&gt;1</title>\n<path d=\"M534.2368,-341.8796C522.4072,-332.368 509.7419,-322.1843 497.6129,-312.432\" fill=\"none\" stroke=\"#000000\"/>\n<polygon fill=\"#000000\" points=\"499.7204,-309.6355 489.734,-306.0969 495.3341,-315.0908 499.7204,-309.6355\" stroke=\"#000000\"/>\n<text fill=\"#000000\" font-family=\"Helvetica,sans-Serif\" font-size=\"14.00\" text-anchor=\"middle\" x=\"492.4335\" y=\"-327.2508\">True</text>\n</g>\n<!-- 8 -->\n<g class=\"node\" id=\"node9\">\n<title>8</title>\n<polygon fill=\"#88c4ef\" points=\"857.5,-306 652.5,-306 652.5,-223 857.5,-223 857.5,-306\" stroke=\"#000000\"/>\n<text fill=\"#000000\" font-family=\"Helvetica,sans-Serif\" font-size=\"14.00\" text-anchor=\"middle\" x=\"755\" y=\"-290.8\">toCoupon_GEQ25min &lt;= 0.5</text>\n<text fill=\"#000000\" font-family=\"Helvetica,sans-Serif\" font-size=\"14.00\" text-anchor=\"middle\" x=\"755\" y=\"-275.8\">gini = 0.409</text>\n<text fill=\"#000000\" font-family=\"Helvetica,sans-Serif\" font-size=\"14.00\" text-anchor=\"middle\" x=\"755\" y=\"-260.8\">samples = 2227</text>\n<text fill=\"#000000\" font-family=\"Helvetica,sans-Serif\" font-size=\"14.00\" text-anchor=\"middle\" x=\"755\" y=\"-245.8\">value = [638, 1589]</text>\n<text fill=\"#000000\" font-family=\"Helvetica,sans-Serif\" font-size=\"14.00\" text-anchor=\"middle\" x=\"755\" y=\"-230.8\">class = 1</text>\n</g>\n<!-- 0&#45;&gt;8 -->\n<g class=\"edge\" id=\"edge8\">\n<title>0-&gt;8</title>\n<path d=\"M645.108,-341.8796C658.8734,-332.1868 673.6299,-321.7961 687.7193,-311.8752\" fill=\"none\" stroke=\"#000000\"/>\n<polygon fill=\"#000000\" points=\"689.7641,-314.716 695.9254,-306.0969 685.7339,-308.9926 689.7641,-314.716\" stroke=\"#000000\"/>\n<text fill=\"#000000\" font-family=\"Helvetica,sans-Serif\" font-size=\"14.00\" text-anchor=\"middle\" x=\"691.6491\" y=\"-327.0285\">False</text>\n</g>\n<!-- 2 -->\n<g class=\"node\" id=\"node3\">\n<title>2</title>\n<polygon fill=\"#d0e8f9\" points=\"299.5,-187 150.5,-187 150.5,-104 299.5,-104 299.5,-187\" stroke=\"#000000\"/>\n<text fill=\"#000000\" font-family=\"Helvetica,sans-Serif\" font-size=\"14.00\" text-anchor=\"middle\" x=\"225\" y=\"-171.8\">coupon &lt;= 0.5</text>\n<text fill=\"#000000\" font-family=\"Helvetica,sans-Serif\" font-size=\"14.00\" text-anchor=\"middle\" x=\"225\" y=\"-156.8\">gini = 0.491</text>\n<text fill=\"#000000\" font-family=\"Helvetica,sans-Serif\" font-size=\"14.00\" text-anchor=\"middle\" x=\"225\" y=\"-141.8\">samples = 6054</text>\n<text fill=\"#000000\" font-family=\"Helvetica,sans-Serif\" font-size=\"14.00\" text-anchor=\"middle\" x=\"225\" y=\"-126.8\">value = [2623, 3431]</text>\n<text fill=\"#000000\" font-family=\"Helvetica,sans-Serif\" font-size=\"14.00\" text-anchor=\"middle\" x=\"225\" y=\"-111.8\">class = 1</text>\n</g>\n<!-- 1&#45;&gt;2 -->\n<g class=\"edge\" id=\"edge2\">\n<title>1-&gt;2</title>\n<path d=\"M363.5029,-222.8796C345.6672,-212.915 326.5114,-202.2129 308.3059,-192.0418\" fill=\"none\" stroke=\"#000000\"/>\n<polygon fill=\"#000000\" points=\"309.892,-188.9188 299.455,-187.0969 306.4779,-195.0298 309.892,-188.9188\" stroke=\"#000000\"/>\n</g>\n<!-- 5 -->\n<g class=\"node\" id=\"node6\">\n<title>5</title>\n<polygon fill=\"#f6d2b8\" points=\"508,-187 368,-187 368,-104 508,-104 508,-187\" stroke=\"#000000\"/>\n<text fill=\"#000000\" font-family=\"Helvetica,sans-Serif\" font-size=\"14.00\" text-anchor=\"middle\" x=\"438\" y=\"-171.8\">coupon &lt;= 1.5</text>\n<text fill=\"#000000\" font-family=\"Helvetica,sans-Serif\" font-size=\"14.00\" text-anchor=\"middle\" x=\"438\" y=\"-156.8\">gini = 0.476</text>\n<text fill=\"#000000\" font-family=\"Helvetica,sans-Serif\" font-size=\"14.00\" text-anchor=\"middle\" x=\"438\" y=\"-141.8\">samples = 1807</text>\n<text fill=\"#000000\" font-family=\"Helvetica,sans-Serif\" font-size=\"14.00\" text-anchor=\"middle\" x=\"438\" y=\"-126.8\">value = [1101, 706]</text>\n<text fill=\"#000000\" font-family=\"Helvetica,sans-Serif\" font-size=\"14.00\" text-anchor=\"middle\" x=\"438\" y=\"-111.8\">class = 0</text>\n</g>\n<!-- 1&#45;&gt;5 -->\n<g class=\"edge\" id=\"edge5\">\n<title>1-&gt;5</title>\n<path d=\"M438,-222.8796C438,-214.6838 438,-205.9891 438,-197.5013\" fill=\"none\" stroke=\"#000000\"/>\n<polygon fill=\"#000000\" points=\"441.5001,-197.298 438,-187.2981 434.5001,-197.2981 441.5001,-197.298\" stroke=\"#000000\"/>\n</g>\n<!-- 3 -->\n<g class=\"node\" id=\"node4\">\n<title>3</title>\n<polygon fill=\"#f8dcc9\" points=\"132,-68 0,-68 0,0 132,0 132,-68\" stroke=\"#000000\"/>\n<text fill=\"#000000\" font-family=\"Helvetica,sans-Serif\" font-size=\"14.00\" text-anchor=\"middle\" x=\"66\" y=\"-52.8\">gini = 0.487</text>\n<text fill=\"#000000\" font-family=\"Helvetica,sans-Serif\" font-size=\"14.00\" text-anchor=\"middle\" x=\"66\" y=\"-37.8\">samples = 1235</text>\n<text fill=\"#000000\" font-family=\"Helvetica,sans-Serif\" font-size=\"14.00\" text-anchor=\"middle\" x=\"66\" y=\"-22.8\">value = [716, 519]</text>\n<text fill=\"#000000\" font-family=\"Helvetica,sans-Serif\" font-size=\"14.00\" text-anchor=\"middle\" x=\"66\" y=\"-7.8\">class = 0</text>\n</g>\n<!-- 2&#45;&gt;3 -->\n<g class=\"edge\" id=\"edge3\">\n<title>2-&gt;3</title>\n<path d=\"M165.7943,-103.9815C151.8288,-94.1881 136.9679,-83.7668 123.0977,-74.0402\" fill=\"none\" stroke=\"#000000\"/>\n<polygon fill=\"#000000\" points=\"124.8035,-70.9616 114.6064,-68.0856 120.7844,-76.6928 124.8035,-70.9616\" stroke=\"#000000\"/>\n</g>\n<!-- 4 -->\n<g class=\"node\" id=\"node5\">\n<title>4</title>\n<polygon fill=\"#bbddf6\" points=\"299.5,-68 150.5,-68 150.5,0 299.5,0 299.5,-68\" stroke=\"#000000\"/>\n<text fill=\"#000000\" font-family=\"Helvetica,sans-Serif\" font-size=\"14.00\" text-anchor=\"middle\" x=\"225\" y=\"-52.8\">gini = 0.478</text>\n<text fill=\"#000000\" font-family=\"Helvetica,sans-Serif\" font-size=\"14.00\" text-anchor=\"middle\" x=\"225\" y=\"-37.8\">samples = 4819</text>\n<text fill=\"#000000\" font-family=\"Helvetica,sans-Serif\" font-size=\"14.00\" text-anchor=\"middle\" x=\"225\" y=\"-22.8\">value = [1907, 2912]</text>\n<text fill=\"#000000\" font-family=\"Helvetica,sans-Serif\" font-size=\"14.00\" text-anchor=\"middle\" x=\"225\" y=\"-7.8\">class = 1</text>\n</g>\n<!-- 2&#45;&gt;4 -->\n<g class=\"edge\" id=\"edge4\">\n<title>2-&gt;4</title>\n<path d=\"M225,-103.9815C225,-95.618 225,-86.7965 225,-78.3409\" fill=\"none\" stroke=\"#000000\"/>\n<polygon fill=\"#000000\" points=\"228.5001,-78.2636 225,-68.2637 221.5001,-78.2637 228.5001,-78.2636\" stroke=\"#000000\"/>\n</g>\n<!-- 6 -->\n<g class=\"node\" id=\"node7\">\n<title>6</title>\n<polygon fill=\"#cfe7f9\" points=\"450,-68 318,-68 318,0 450,0 450,-68\" stroke=\"#000000\"/>\n<text fill=\"#000000\" font-family=\"Helvetica,sans-Serif\" font-size=\"14.00\" text-anchor=\"middle\" x=\"384\" y=\"-52.8\">gini = 0.49</text>\n<text fill=\"#000000\" font-family=\"Helvetica,sans-Serif\" font-size=\"14.00\" text-anchor=\"middle\" x=\"384\" y=\"-37.8\">samples = 805</text>\n<text fill=\"#000000\" font-family=\"Helvetica,sans-Serif\" font-size=\"14.00\" text-anchor=\"middle\" x=\"384\" y=\"-22.8\">value = [347, 458]</text>\n<text fill=\"#000000\" font-family=\"Helvetica,sans-Serif\" font-size=\"14.00\" text-anchor=\"middle\" x=\"384\" y=\"-7.8\">class = 1</text>\n</g>\n<!-- 5&#45;&gt;6 -->\n<g class=\"edge\" id=\"edge6\">\n<title>5-&gt;6</title>\n<path d=\"M417.8924,-103.9815C413.7084,-95.3423 409.2877,-86.2144 405.0701,-77.5059\" fill=\"none\" stroke=\"#000000\"/>\n<polygon fill=\"#000000\" points=\"408.1029,-75.7382 400.5941,-68.2637 401.8029,-78.7893 408.1029,-75.7382\" stroke=\"#000000\"/>\n</g>\n<!-- 7 -->\n<g class=\"node\" id=\"node8\">\n<title>7</title>\n<polygon fill=\"#eeaa7a\" points=\"600,-68 468,-68 468,0 600,0 600,-68\" stroke=\"#000000\"/>\n<text fill=\"#000000\" font-family=\"Helvetica,sans-Serif\" font-size=\"14.00\" text-anchor=\"middle\" x=\"534\" y=\"-52.8\">gini = 0.372</text>\n<text fill=\"#000000\" font-family=\"Helvetica,sans-Serif\" font-size=\"14.00\" text-anchor=\"middle\" x=\"534\" y=\"-37.8\">samples = 1002</text>\n<text fill=\"#000000\" font-family=\"Helvetica,sans-Serif\" font-size=\"14.00\" text-anchor=\"middle\" x=\"534\" y=\"-22.8\">value = [754, 248]</text>\n<text fill=\"#000000\" font-family=\"Helvetica,sans-Serif\" font-size=\"14.00\" text-anchor=\"middle\" x=\"534\" y=\"-7.8\">class = 0</text>\n</g>\n<!-- 5&#45;&gt;7 -->\n<g class=\"edge\" id=\"edge7\">\n<title>5-&gt;7</title>\n<path d=\"M473.7469,-103.9815C481.6599,-94.7908 490.0491,-85.0472 497.9732,-75.8436\" fill=\"none\" stroke=\"#000000\"/>\n<polygon fill=\"#000000\" points=\"500.6271,-78.1255 504.4994,-68.2637 495.3224,-73.5582 500.6271,-78.1255\" stroke=\"#000000\"/>\n</g>\n<!-- 9 -->\n<g class=\"node\" id=\"node10\">\n<title>9</title>\n<polygon fill=\"#77bced\" points=\"825,-187 685,-187 685,-104 825,-104 825,-187\" stroke=\"#000000\"/>\n<text fill=\"#000000\" font-family=\"Helvetica,sans-Serif\" font-size=\"14.00\" text-anchor=\"middle\" x=\"755\" y=\"-171.8\">expiration &lt;= 0.5</text>\n<text fill=\"#000000\" font-family=\"Helvetica,sans-Serif\" font-size=\"14.00\" text-anchor=\"middle\" x=\"755\" y=\"-156.8\">gini = 0.364</text>\n<text fill=\"#000000\" font-family=\"Helvetica,sans-Serif\" font-size=\"14.00\" text-anchor=\"middle\" x=\"755\" y=\"-141.8\">samples = 1978</text>\n<text fill=\"#000000\" font-family=\"Helvetica,sans-Serif\" font-size=\"14.00\" text-anchor=\"middle\" x=\"755\" y=\"-126.8\">value = [473, 1505]</text>\n<text fill=\"#000000\" font-family=\"Helvetica,sans-Serif\" font-size=\"14.00\" text-anchor=\"middle\" x=\"755\" y=\"-111.8\">class = 1</text>\n</g>\n<!-- 8&#45;&gt;9 -->\n<g class=\"edge\" id=\"edge9\">\n<title>8-&gt;9</title>\n<path d=\"M755,-222.8796C755,-214.6838 755,-205.9891 755,-197.5013\" fill=\"none\" stroke=\"#000000\"/>\n<polygon fill=\"#000000\" points=\"758.5001,-197.298 755,-187.2981 751.5001,-197.2981 758.5001,-197.298\" stroke=\"#000000\"/>\n</g>\n<!-- 12 -->\n<g class=\"node\" id=\"node13\">\n<title>12</title>\n<polygon fill=\"#f2c19e\" points=\"1045,-187 915,-187 915,-104 1045,-104 1045,-187\" stroke=\"#000000\"/>\n<text fill=\"#000000\" font-family=\"Helvetica,sans-Serif\" font-size=\"14.00\" text-anchor=\"middle\" x=\"980\" y=\"-171.8\">passanger &lt;= 1.5</text>\n<text fill=\"#000000\" font-family=\"Helvetica,sans-Serif\" font-size=\"14.00\" text-anchor=\"middle\" x=\"980\" y=\"-156.8\">gini = 0.447</text>\n<text fill=\"#000000\" font-family=\"Helvetica,sans-Serif\" font-size=\"14.00\" text-anchor=\"middle\" x=\"980\" y=\"-141.8\">samples = 249</text>\n<text fill=\"#000000\" font-family=\"Helvetica,sans-Serif\" font-size=\"14.00\" text-anchor=\"middle\" x=\"980\" y=\"-126.8\">value = [165, 84]</text>\n<text fill=\"#000000\" font-family=\"Helvetica,sans-Serif\" font-size=\"14.00\" text-anchor=\"middle\" x=\"980\" y=\"-111.8\">class = 0</text>\n</g>\n<!-- 8&#45;&gt;12 -->\n<g class=\"edge\" id=\"edge12\">\n<title>8-&gt;12</title>\n<path d=\"M833.6941,-222.8796C857.0759,-210.5132 882.6056,-197.0108 905.6986,-184.7972\" fill=\"none\" stroke=\"#000000\"/>\n<polygon fill=\"#000000\" points=\"907.552,-187.7764 914.7554,-180.0071 904.2793,-181.5885 907.552,-187.7764\" stroke=\"#000000\"/>\n</g>\n<!-- 10 -->\n<g class=\"node\" id=\"node11\">\n<title>10</title>\n<polygon fill=\"#60b0ea\" points=\"750,-68 618,-68 618,0 750,0 750,-68\" stroke=\"#000000\"/>\n<text fill=\"#000000\" font-family=\"Helvetica,sans-Serif\" font-size=\"14.00\" text-anchor=\"middle\" x=\"684\" y=\"-52.8\">gini = 0.273</text>\n<text fill=\"#000000\" font-family=\"Helvetica,sans-Serif\" font-size=\"14.00\" text-anchor=\"middle\" x=\"684\" y=\"-37.8\">samples = 1060</text>\n<text fill=\"#000000\" font-family=\"Helvetica,sans-Serif\" font-size=\"14.00\" text-anchor=\"middle\" x=\"684\" y=\"-22.8\">value = [173, 887]</text>\n<text fill=\"#000000\" font-family=\"Helvetica,sans-Serif\" font-size=\"14.00\" text-anchor=\"middle\" x=\"684\" y=\"-7.8\">class = 1</text>\n</g>\n<!-- 9&#45;&gt;10 -->\n<g class=\"edge\" id=\"edge10\">\n<title>9-&gt;10</title>\n<path d=\"M728.5622,-103.9815C722.944,-95.1585 717.0012,-85.8258 711.3497,-76.9506\" fill=\"none\" stroke=\"#000000\"/>\n<polygon fill=\"#000000\" points=\"714.1416,-74.8188 705.8181,-68.2637 708.2371,-78.5787 714.1416,-74.8188\" stroke=\"#000000\"/>\n</g>\n<!-- 11 -->\n<g class=\"node\" id=\"node12\">\n<title>11</title>\n<polygon fill=\"#99cdf2\" points=\"900,-68 768,-68 768,0 900,0 900,-68\" stroke=\"#000000\"/>\n<text fill=\"#000000\" font-family=\"Helvetica,sans-Serif\" font-size=\"14.00\" text-anchor=\"middle\" x=\"834\" y=\"-52.8\">gini = 0.44</text>\n<text fill=\"#000000\" font-family=\"Helvetica,sans-Serif\" font-size=\"14.00\" text-anchor=\"middle\" x=\"834\" y=\"-37.8\">samples = 918</text>\n<text fill=\"#000000\" font-family=\"Helvetica,sans-Serif\" font-size=\"14.00\" text-anchor=\"middle\" x=\"834\" y=\"-22.8\">value = [300, 618]</text>\n<text fill=\"#000000\" font-family=\"Helvetica,sans-Serif\" font-size=\"14.00\" text-anchor=\"middle\" x=\"834\" y=\"-7.8\">class = 1</text>\n</g>\n<!-- 9&#45;&gt;11 -->\n<g class=\"edge\" id=\"edge11\">\n<title>9-&gt;11</title>\n<path d=\"M784.4167,-103.9815C790.7331,-95.0666 797.4182,-85.6313 803.7651,-76.6734\" fill=\"none\" stroke=\"#000000\"/>\n<polygon fill=\"#000000\" points=\"806.7981,-78.4466 809.7235,-68.2637 801.0864,-74.3998 806.7981,-78.4466\" stroke=\"#000000\"/>\n</g>\n<!-- 13 -->\n<g class=\"node\" id=\"node14\">\n<title>13</title>\n<polygon fill=\"#efb286\" points=\"1042,-68 918,-68 918,0 1042,0 1042,-68\" stroke=\"#000000\"/>\n<text fill=\"#000000\" font-family=\"Helvetica,sans-Serif\" font-size=\"14.00\" text-anchor=\"middle\" x=\"980\" y=\"-52.8\">gini = 0.403</text>\n<text fill=\"#000000\" font-family=\"Helvetica,sans-Serif\" font-size=\"14.00\" text-anchor=\"middle\" x=\"980\" y=\"-37.8\">samples = 225</text>\n<text fill=\"#000000\" font-family=\"Helvetica,sans-Serif\" font-size=\"14.00\" text-anchor=\"middle\" x=\"980\" y=\"-22.8\">value = [162, 63]</text>\n<text fill=\"#000000\" font-family=\"Helvetica,sans-Serif\" font-size=\"14.00\" text-anchor=\"middle\" x=\"980\" y=\"-7.8\">class = 0</text>\n</g>\n<!-- 12&#45;&gt;13 -->\n<g class=\"edge\" id=\"edge13\">\n<title>12-&gt;13</title>\n<path d=\"M980,-103.9815C980,-95.618 980,-86.7965 980,-78.3409\" fill=\"none\" stroke=\"#000000\"/>\n<polygon fill=\"#000000\" points=\"983.5001,-78.2636 980,-68.2637 976.5001,-78.2637 983.5001,-78.2636\" stroke=\"#000000\"/>\n</g>\n<!-- 14 -->\n<g class=\"node\" id=\"node15\">\n<title>14</title>\n<polygon fill=\"#55abe9\" points=\"1167.5,-68 1060.5,-68 1060.5,0 1167.5,0 1167.5,-68\" stroke=\"#000000\"/>\n<text fill=\"#000000\" font-family=\"Helvetica,sans-Serif\" font-size=\"14.00\" text-anchor=\"middle\" x=\"1114\" y=\"-52.8\">gini = 0.219</text>\n<text fill=\"#000000\" font-family=\"Helvetica,sans-Serif\" font-size=\"14.00\" text-anchor=\"middle\" x=\"1114\" y=\"-37.8\">samples = 24</text>\n<text fill=\"#000000\" font-family=\"Helvetica,sans-Serif\" font-size=\"14.00\" text-anchor=\"middle\" x=\"1114\" y=\"-22.8\">value = [3, 21]</text>\n<text fill=\"#000000\" font-family=\"Helvetica,sans-Serif\" font-size=\"14.00\" text-anchor=\"middle\" x=\"1114\" y=\"-7.8\">class = 1</text>\n</g>\n<!-- 12&#45;&gt;14 -->\n<g class=\"edge\" id=\"edge14\">\n<title>12-&gt;14</title>\n<path d=\"M1029.8967,-103.9815C1041.3838,-94.4232 1053.5897,-84.2668 1065.0367,-74.7419\" fill=\"none\" stroke=\"#000000\"/>\n<polygon fill=\"#000000\" points=\"1067.3739,-77.3503 1072.8221,-68.2637 1062.8965,-71.9695 1067.3739,-77.3503\" stroke=\"#000000\"/>\n</g>\n</g>\n</svg>"
          },
          "metadata": {},
          "execution_count": 28
        }
      ]
    },
    {
      "cell_type": "code",
      "source": [
        "#Escogemos un registro al azar para comprobar los datos en el árbol\n",
        "val=x_train.sample()\n",
        "val"
      ],
      "metadata": {
        "colab": {
          "base_uri": "https://localhost:8080/",
          "height": 145
        },
        "id": "a4fMPLLJbTV5",
        "outputId": "4d9fe527-9ee6-49b6-9f23-9b487d265cff"
      },
      "execution_count": null,
      "outputs": [
        {
          "output_type": "execute_result",
          "data": {
            "text/plain": [
              "       destination  passanger  weather  temperature  time  coupon  expiration  \\\n",
              "11871            1          1        2           55     1       0           1   \n",
              "\n",
              "       gender  age  maritalStatus  has_children  education  occupation  \\\n",
              "11871       0    0              1             1          5          21   \n",
              "\n",
              "       income  Bar  CoffeeHouse  CarryAway  RestaurantLessThan20  \\\n",
              "11871       2  3.0          0.0        1.0                   0.0   \n",
              "\n",
              "       Restaurant20To50  toCoupon_GEQ15min  toCoupon_GEQ25min  direction_opp  \n",
              "11871               4.0                  1                  0              1  "
            ],
            "text/html": [
              "\n",
              "  <div id=\"df-c97e0a3f-2fb8-4ea3-87a9-a96e62a65698\">\n",
              "    <div class=\"colab-df-container\">\n",
              "      <div>\n",
              "<style scoped>\n",
              "    .dataframe tbody tr th:only-of-type {\n",
              "        vertical-align: middle;\n",
              "    }\n",
              "\n",
              "    .dataframe tbody tr th {\n",
              "        vertical-align: top;\n",
              "    }\n",
              "\n",
              "    .dataframe thead th {\n",
              "        text-align: right;\n",
              "    }\n",
              "</style>\n",
              "<table border=\"1\" class=\"dataframe\">\n",
              "  <thead>\n",
              "    <tr style=\"text-align: right;\">\n",
              "      <th></th>\n",
              "      <th>destination</th>\n",
              "      <th>passanger</th>\n",
              "      <th>weather</th>\n",
              "      <th>temperature</th>\n",
              "      <th>time</th>\n",
              "      <th>coupon</th>\n",
              "      <th>expiration</th>\n",
              "      <th>gender</th>\n",
              "      <th>age</th>\n",
              "      <th>maritalStatus</th>\n",
              "      <th>has_children</th>\n",
              "      <th>education</th>\n",
              "      <th>occupation</th>\n",
              "      <th>income</th>\n",
              "      <th>Bar</th>\n",
              "      <th>CoffeeHouse</th>\n",
              "      <th>CarryAway</th>\n",
              "      <th>RestaurantLessThan20</th>\n",
              "      <th>Restaurant20To50</th>\n",
              "      <th>toCoupon_GEQ15min</th>\n",
              "      <th>toCoupon_GEQ25min</th>\n",
              "      <th>direction_opp</th>\n",
              "    </tr>\n",
              "  </thead>\n",
              "  <tbody>\n",
              "    <tr>\n",
              "      <th>11871</th>\n",
              "      <td>1</td>\n",
              "      <td>1</td>\n",
              "      <td>2</td>\n",
              "      <td>55</td>\n",
              "      <td>1</td>\n",
              "      <td>0</td>\n",
              "      <td>1</td>\n",
              "      <td>0</td>\n",
              "      <td>0</td>\n",
              "      <td>1</td>\n",
              "      <td>1</td>\n",
              "      <td>5</td>\n",
              "      <td>21</td>\n",
              "      <td>2</td>\n",
              "      <td>3.0</td>\n",
              "      <td>0.0</td>\n",
              "      <td>1.0</td>\n",
              "      <td>0.0</td>\n",
              "      <td>4.0</td>\n",
              "      <td>1</td>\n",
              "      <td>0</td>\n",
              "      <td>1</td>\n",
              "    </tr>\n",
              "  </tbody>\n",
              "</table>\n",
              "</div>\n",
              "      <button class=\"colab-df-convert\" onclick=\"convertToInteractive('df-c97e0a3f-2fb8-4ea3-87a9-a96e62a65698')\"\n",
              "              title=\"Convert this dataframe to an interactive table.\"\n",
              "              style=\"display:none;\">\n",
              "        \n",
              "  <svg xmlns=\"http://www.w3.org/2000/svg\" height=\"24px\"viewBox=\"0 0 24 24\"\n",
              "       width=\"24px\">\n",
              "    <path d=\"M0 0h24v24H0V0z\" fill=\"none\"/>\n",
              "    <path d=\"M18.56 5.44l.94 2.06.94-2.06 2.06-.94-2.06-.94-.94-2.06-.94 2.06-2.06.94zm-11 1L8.5 8.5l.94-2.06 2.06-.94-2.06-.94L8.5 2.5l-.94 2.06-2.06.94zm10 10l.94 2.06.94-2.06 2.06-.94-2.06-.94-.94-2.06-.94 2.06-2.06.94z\"/><path d=\"M17.41 7.96l-1.37-1.37c-.4-.4-.92-.59-1.43-.59-.52 0-1.04.2-1.43.59L10.3 9.45l-7.72 7.72c-.78.78-.78 2.05 0 2.83L4 21.41c.39.39.9.59 1.41.59.51 0 1.02-.2 1.41-.59l7.78-7.78 2.81-2.81c.8-.78.8-2.07 0-2.86zM5.41 20L4 18.59l7.72-7.72 1.47 1.35L5.41 20z\"/>\n",
              "  </svg>\n",
              "      </button>\n",
              "      \n",
              "  <style>\n",
              "    .colab-df-container {\n",
              "      display:flex;\n",
              "      flex-wrap:wrap;\n",
              "      gap: 12px;\n",
              "    }\n",
              "\n",
              "    .colab-df-convert {\n",
              "      background-color: #E8F0FE;\n",
              "      border: none;\n",
              "      border-radius: 50%;\n",
              "      cursor: pointer;\n",
              "      display: none;\n",
              "      fill: #1967D2;\n",
              "      height: 32px;\n",
              "      padding: 0 0 0 0;\n",
              "      width: 32px;\n",
              "    }\n",
              "\n",
              "    .colab-df-convert:hover {\n",
              "      background-color: #E2EBFA;\n",
              "      box-shadow: 0px 1px 2px rgba(60, 64, 67, 0.3), 0px 1px 3px 1px rgba(60, 64, 67, 0.15);\n",
              "      fill: #174EA6;\n",
              "    }\n",
              "\n",
              "    [theme=dark] .colab-df-convert {\n",
              "      background-color: #3B4455;\n",
              "      fill: #D2E3FC;\n",
              "    }\n",
              "\n",
              "    [theme=dark] .colab-df-convert:hover {\n",
              "      background-color: #434B5C;\n",
              "      box-shadow: 0px 1px 3px 1px rgba(0, 0, 0, 0.15);\n",
              "      filter: drop-shadow(0px 1px 2px rgba(0, 0, 0, 0.3));\n",
              "      fill: #FFFFFF;\n",
              "    }\n",
              "  </style>\n",
              "\n",
              "      <script>\n",
              "        const buttonEl =\n",
              "          document.querySelector('#df-c97e0a3f-2fb8-4ea3-87a9-a96e62a65698 button.colab-df-convert');\n",
              "        buttonEl.style.display =\n",
              "          google.colab.kernel.accessAllowed ? 'block' : 'none';\n",
              "\n",
              "        async function convertToInteractive(key) {\n",
              "          const element = document.querySelector('#df-c97e0a3f-2fb8-4ea3-87a9-a96e62a65698');\n",
              "          const dataTable =\n",
              "            await google.colab.kernel.invokeFunction('convertToInteractive',\n",
              "                                                     [key], {});\n",
              "          if (!dataTable) return;\n",
              "\n",
              "          const docLinkHtml = 'Like what you see? Visit the ' +\n",
              "            '<a target=\"_blank\" href=https://colab.research.google.com/notebooks/data_table.ipynb>data table notebook</a>'\n",
              "            + ' to learn more about interactive tables.';\n",
              "          element.innerHTML = '';\n",
              "          dataTable['output_type'] = 'display_data';\n",
              "          await google.colab.output.renderOutput(dataTable, element);\n",
              "          const docLink = document.createElement('div');\n",
              "          docLink.innerHTML = docLinkHtml;\n",
              "          element.appendChild(docLink);\n",
              "        }\n",
              "      </script>\n",
              "    </div>\n",
              "  </div>\n",
              "  "
            ]
          },
          "metadata": {},
          "execution_count": 31
        }
      ]
    },
    {
      "cell_type": "code",
      "source": [
        "# probalidad que la persona elegidad al azar cangee el cupon\n",
        "model.predict_proba(val)"
      ],
      "metadata": {
        "colab": {
          "base_uri": "https://localhost:8080/"
        },
        "id": "QViKDXVZbmKT",
        "outputId": "fef7d281-2158-4db8-9752-a2d2dc51dab5"
      },
      "execution_count": null,
      "outputs": [
        {
          "output_type": "execute_result",
          "data": {
            "text/plain": [
              "array([[0.57975709, 0.42024291]])"
            ]
          },
          "metadata": {},
          "execution_count": 32
        }
      ]
    },
    {
      "cell_type": "code",
      "source": [
        "# Predecir la respuesta para el conjunto de datos de prueba\n",
        "y_predic = model.predict(x_test)\n",
        "\n",
        "print(classification_report(y_test,y_predic))"
      ],
      "metadata": {
        "colab": {
          "base_uri": "https://localhost:8080/"
        },
        "id": "1t9TfprQcLgJ",
        "outputId": "3633bee5-d875-4a51-9b5a-eb8f93dd7b01"
      },
      "execution_count": null,
      "outputs": [
        {
          "output_type": "stream",
          "name": "stdout",
          "text": [
            "              precision    recall  f1-score   support\n",
            "\n",
            "           0       0.64      0.38      0.47      1091\n",
            "           1       0.64      0.84      0.73      1431\n",
            "\n",
            "    accuracy                           0.64      2522\n",
            "   macro avg       0.64      0.61      0.60      2522\n",
            "weighted avg       0.64      0.64      0.62      2522\n",
            "\n"
          ]
        }
      ]
    },
    {
      "cell_type": "code",
      "source": [
        "#Como el modelo elige la variable cupon como punto de decision\n",
        "# vamos a verificar cupon vs Y de los datos de entrenamiento\n",
        "\n",
        "import seaborn as sns\n",
        "sns.histplot(x=x_train.coupon, hue=y_train)"
      ],
      "metadata": {
        "colab": {
          "base_uri": "https://localhost:8080/",
          "height": 466
        },
        "id": "gFDbAh7-dSwh",
        "outputId": "3d3878a0-ea5f-416f-b37b-a4c312f1d10b"
      },
      "execution_count": null,
      "outputs": [
        {
          "output_type": "execute_result",
          "data": {
            "text/plain": [
              "<matplotlib.axes._subplots.AxesSubplot at 0x7f8e7fef3dd0>"
            ]
          },
          "metadata": {},
          "execution_count": 44
        },
        {
          "output_type": "display_data",
          "data": {
            "text/plain": [
              "<Figure size 640x480 with 1 Axes>"
            ],
            "image/png": "[encoded data removed]"
          },
          "metadata": {}
        }
      ]
    },
    {
      "cell_type": "code",
      "source": [
        "# Interpretamos el modelo con los datos de prueba\n",
        "sns.histplot(x=x_test.coupon, hue=y_test)"
      ],
      "metadata": {
        "colab": {
          "base_uri": "https://localhost:8080/",
          "height": 466
        },
        "id": "c5yQ7Mu6eYvy",
        "outputId": "c55e306b-9cef-46e3-fb5e-a5941a4976ec"
      },
      "execution_count": null,
      "outputs": [
        {
          "output_type": "execute_result",
          "data": {
            "text/plain": [
              "<matplotlib.axes._subplots.AxesSubplot at 0x7f8e7fdc7750>"
            ]
          },
          "metadata": {},
          "execution_count": 45
        },
        {
          "output_type": "display_data",
          "data": {
            "text/plain": [
              "<Figure size 640x480 with 1 Axes>"
            ],
            "image/png": "[encoded data removed]"
          },
          "metadata": {}
        }
      ]
    }
  ]
}